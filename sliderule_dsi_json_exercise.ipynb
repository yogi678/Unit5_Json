{
 "cells": [
  {
   "cell_type": "markdown",
   "metadata": {},
   "source": [
    "# JSON examples and exercise\n",
    "Import required libraries"
   ]
  },
  {
   "cell_type": "code",
   "execution_count": 17,
   "metadata": {},
   "outputs": [],
   "source": [
    "import pandas as pd\n",
    "import json\n",
    "from collections import Counter\n",
    "import itertools  "
   ]
  },
  {
   "cell_type": "code",
   "execution_count": 3,
   "metadata": {},
   "outputs": [],
   "source": [
    "#Set maximum width for output column\n",
    "pd.set_option('max_colwidth', 999)"
   ]
  },
  {
   "cell_type": "code",
   "execution_count": 4,
   "metadata": {},
   "outputs": [
    {
     "data": {
      "text/html": [
       "<div>\n",
       "<style scoped>\n",
       "    .dataframe tbody tr th:only-of-type {\n",
       "        vertical-align: middle;\n",
       "    }\n",
       "\n",
       "    .dataframe tbody tr th {\n",
       "        vertical-align: top;\n",
       "    }\n",
       "\n",
       "    .dataframe thead th {\n",
       "        text-align: right;\n",
       "    }\n",
       "</style>\n",
       "<table border=\"1\" class=\"dataframe\">\n",
       "  <thead>\n",
       "    <tr style=\"text-align: right;\">\n",
       "      <th></th>\n",
       "      <th>sector</th>\n",
       "      <th>supplementprojectflg</th>\n",
       "      <th>projectfinancialtype</th>\n",
       "      <th>prodline</th>\n",
       "      <th>mjtheme</th>\n",
       "      <th>idacommamt</th>\n",
       "      <th>impagency</th>\n",
       "      <th>project_name</th>\n",
       "      <th>mjthemecode</th>\n",
       "      <th>closingdate</th>\n",
       "      <th>...</th>\n",
       "      <th>majorsector_percent</th>\n",
       "      <th>board_approval_month</th>\n",
       "      <th>theme_namecode</th>\n",
       "      <th>countryname</th>\n",
       "      <th>url</th>\n",
       "      <th>source</th>\n",
       "      <th>projectstatusdisplay</th>\n",
       "      <th>ibrdcommamt</th>\n",
       "      <th>sector_namecode</th>\n",
       "      <th>_id</th>\n",
       "    </tr>\n",
       "  </thead>\n",
       "  <tbody>\n",
       "    <tr>\n",
       "      <td>0</td>\n",
       "      <td>[{'Name': 'Primary education'}, {'Name': 'Secondary education'}, {'Name': 'Public administration- Other social services'}, {'Name': 'Tertiary education'}]</td>\n",
       "      <td>N</td>\n",
       "      <td>IDA</td>\n",
       "      <td>PE</td>\n",
       "      <td>[Human development]</td>\n",
       "      <td>130000000</td>\n",
       "      <td>MINISTRY OF EDUCATION</td>\n",
       "      <td>Ethiopia General Education Quality Improvement Project II</td>\n",
       "      <td>8,11</td>\n",
       "      <td>2018-07-07T00:00:00Z</td>\n",
       "      <td>...</td>\n",
       "      <td>[{'Percent': 46, 'Name': 'Education'}, {'Percent': 26, 'Name': 'Education'}, {'Percent': 16, 'Name': 'Public Administration, Law, and Justice'}, {'Percent': 12, 'Name': 'Education'}]</td>\n",
       "      <td>November</td>\n",
       "      <td>[{'code': '65', 'name': 'Education for all'}]</td>\n",
       "      <td>Federal Democratic Republic of Ethiopia</td>\n",
       "      <td>http://www.worldbank.org/projects/P129828/ethiopia-general-education-quality-improvement-project-ii?lang=en</td>\n",
       "      <td>IBRD</td>\n",
       "      <td>Active</td>\n",
       "      <td>0</td>\n",
       "      <td>[{'code': 'EP', 'name': 'Primary education'}, {'code': 'ES', 'name': 'Secondary education'}, {'code': 'BS', 'name': 'Public administration- Other social services'}, {'code': 'ET', 'name': 'Tertiary education'}]</td>\n",
       "      <td>{'$oid': '52b213b38594d8a2be17c780'}</td>\n",
       "    </tr>\n",
       "    <tr>\n",
       "      <td>1</td>\n",
       "      <td>[{'Name': 'Public administration- Other social services'}, {'Name': 'General public administration sector'}]</td>\n",
       "      <td>N</td>\n",
       "      <td>OTHER</td>\n",
       "      <td>RE</td>\n",
       "      <td>[Economic management, Social protection and risk management]</td>\n",
       "      <td>0</td>\n",
       "      <td>MINISTRY OF FINANCE</td>\n",
       "      <td>TN: DTF Social Protection Reforms Support</td>\n",
       "      <td>1,6</td>\n",
       "      <td>NaN</td>\n",
       "      <td>...</td>\n",
       "      <td>[{'Percent': 70, 'Name': 'Public Administration, Law, and Justice'}, {'Percent': 30, 'Name': 'Public Administration, Law, and Justice'}]</td>\n",
       "      <td>November</td>\n",
       "      <td>[{'code': '24', 'name': 'Other economic management'}, {'code': '54', 'name': 'Social safety nets'}]</td>\n",
       "      <td>Republic of Tunisia</td>\n",
       "      <td>http://www.worldbank.org/projects/P144674?lang=en</td>\n",
       "      <td>IBRD</td>\n",
       "      <td>Active</td>\n",
       "      <td>0</td>\n",
       "      <td>[{'code': 'BS', 'name': 'Public administration- Other social services'}, {'code': 'BZ', 'name': 'General public administration sector'}]</td>\n",
       "      <td>{'$oid': '52b213b38594d8a2be17c781'}</td>\n",
       "    </tr>\n",
       "  </tbody>\n",
       "</table>\n",
       "<p>2 rows × 50 columns</p>\n",
       "</div>"
      ],
      "text/plain": [
       "                                                                                                                                                       sector  \\\n",
       "0  [{'Name': 'Primary education'}, {'Name': 'Secondary education'}, {'Name': 'Public administration- Other social services'}, {'Name': 'Tertiary education'}]   \n",
       "1                                                [{'Name': 'Public administration- Other social services'}, {'Name': 'General public administration sector'}]   \n",
       "\n",
       "  supplementprojectflg projectfinancialtype prodline  \\\n",
       "0                    N                  IDA       PE   \n",
       "1                    N                OTHER       RE   \n",
       "\n",
       "                                                        mjtheme  idacommamt  \\\n",
       "0                                           [Human development]   130000000   \n",
       "1  [Economic management, Social protection and risk management]           0   \n",
       "\n",
       "               impagency  \\\n",
       "0  MINISTRY OF EDUCATION   \n",
       "1    MINISTRY OF FINANCE   \n",
       "\n",
       "                                                project_name mjthemecode  \\\n",
       "0  Ethiopia General Education Quality Improvement Project II        8,11   \n",
       "1                  TN: DTF Social Protection Reforms Support         1,6   \n",
       "\n",
       "            closingdate  ...  \\\n",
       "0  2018-07-07T00:00:00Z  ...   \n",
       "1                   NaN  ...   \n",
       "\n",
       "                                                                                                                                                                      majorsector_percent  \\\n",
       "0  [{'Percent': 46, 'Name': 'Education'}, {'Percent': 26, 'Name': 'Education'}, {'Percent': 16, 'Name': 'Public Administration, Law, and Justice'}, {'Percent': 12, 'Name': 'Education'}]   \n",
       "1                                                [{'Percent': 70, 'Name': 'Public Administration, Law, and Justice'}, {'Percent': 30, 'Name': 'Public Administration, Law, and Justice'}]   \n",
       "\n",
       "  board_approval_month  \\\n",
       "0             November   \n",
       "1             November   \n",
       "\n",
       "                                                                                        theme_namecode  \\\n",
       "0                                                        [{'code': '65', 'name': 'Education for all'}]   \n",
       "1  [{'code': '24', 'name': 'Other economic management'}, {'code': '54', 'name': 'Social safety nets'}]   \n",
       "\n",
       "                               countryname  \\\n",
       "0  Federal Democratic Republic of Ethiopia   \n",
       "1                      Republic of Tunisia   \n",
       "\n",
       "                                                                                                           url  \\\n",
       "0  http://www.worldbank.org/projects/P129828/ethiopia-general-education-quality-improvement-project-ii?lang=en   \n",
       "1                                                            http://www.worldbank.org/projects/P144674?lang=en   \n",
       "\n",
       "  source projectstatusdisplay ibrdcommamt  \\\n",
       "0   IBRD               Active           0   \n",
       "1   IBRD               Active           0   \n",
       "\n",
       "                                                                                                                                                                                                      sector_namecode  \\\n",
       "0  [{'code': 'EP', 'name': 'Primary education'}, {'code': 'ES', 'name': 'Secondary education'}, {'code': 'BS', 'name': 'Public administration- Other social services'}, {'code': 'ET', 'name': 'Tertiary education'}]   \n",
       "1                                                                            [{'code': 'BS', 'name': 'Public administration- Other social services'}, {'code': 'BZ', 'name': 'General public administration sector'}]   \n",
       "\n",
       "                                    _id  \n",
       "0  {'$oid': '52b213b38594d8a2be17c780'}  \n",
       "1  {'$oid': '52b213b38594d8a2be17c781'}  \n",
       "\n",
       "[2 rows x 50 columns]"
      ]
     },
     "execution_count": 4,
     "metadata": {},
     "output_type": "execute_result"
    }
   ],
   "source": [
    "# load as Pandas dataframe\n",
    "df_main = pd.read_json('data/world_bank_projects.json')\n",
    "df_main.head(2)"
   ]
  },
  {
   "cell_type": "code",
   "execution_count": 5,
   "metadata": {},
   "outputs": [
    {
     "data": {
      "text/plain": [
       "(500, 50)"
      ]
     },
     "execution_count": 5,
     "metadata": {},
     "output_type": "execute_result"
    }
   ],
   "source": [
    "df_main.shape"
   ]
  },
  {
   "cell_type": "code",
   "execution_count": 6,
   "metadata": {},
   "outputs": [
    {
     "name": "stdout",
     "output_type": "stream",
     "text": [
      "<class 'pandas.core.frame.DataFrame'>\n",
      "RangeIndex: 500 entries, 0 to 499\n",
      "Data columns (total 50 columns):\n",
      "sector                      500 non-null object\n",
      "supplementprojectflg        498 non-null object\n",
      "projectfinancialtype        500 non-null object\n",
      "prodline                    500 non-null object\n",
      "mjtheme                     491 non-null object\n",
      "idacommamt                  500 non-null int64\n",
      "impagency                   472 non-null object\n",
      "project_name                500 non-null object\n",
      "mjthemecode                 500 non-null object\n",
      "closingdate                 370 non-null object\n",
      "totalcommamt                500 non-null int64\n",
      "id                          500 non-null object\n",
      "mjsector_namecode           500 non-null object\n",
      "docty                       446 non-null object\n",
      "sector1                     500 non-null object\n",
      "lendinginstr                495 non-null object\n",
      "countrycode                 500 non-null object\n",
      "sector2                     380 non-null object\n",
      "totalamt                    500 non-null int64\n",
      "mjtheme_namecode            500 non-null object\n",
      "boardapprovaldate           500 non-null object\n",
      "countryshortname            500 non-null object\n",
      "sector4                     174 non-null object\n",
      "prodlinetext                500 non-null object\n",
      "productlinetype             500 non-null object\n",
      "regionname                  500 non-null object\n",
      "status                      500 non-null object\n",
      "country_namecode            500 non-null object\n",
      "envassesmentcategorycode    430 non-null object\n",
      "project_abstract            362 non-null object\n",
      "approvalfy                  500 non-null int64\n",
      "projectdocs                 446 non-null object\n",
      "lendprojectcost             500 non-null int64\n",
      "lendinginstrtype            495 non-null object\n",
      "theme1                      500 non-null object\n",
      "grantamt                    500 non-null int64\n",
      "themecode                   491 non-null object\n",
      "borrower                    485 non-null object\n",
      "sectorcode                  500 non-null object\n",
      "sector3                     265 non-null object\n",
      "majorsector_percent         500 non-null object\n",
      "board_approval_month        500 non-null object\n",
      "theme_namecode              491 non-null object\n",
      "countryname                 500 non-null object\n",
      "url                         500 non-null object\n",
      "source                      500 non-null object\n",
      "projectstatusdisplay        500 non-null object\n",
      "ibrdcommamt                 500 non-null int64\n",
      "sector_namecode             500 non-null object\n",
      "_id                         500 non-null object\n",
      "dtypes: int64(7), object(43)\n",
      "memory usage: 195.4+ KB\n"
     ]
    }
   ],
   "source": [
    "df_main.info()"
   ]
  },
  {
   "cell_type": "markdown",
   "metadata": {},
   "source": [
    "****\n",
    "## JSON exercise\n",
    "\n",
    "Using data in file 'data/world_bank_projects.json' and the techniques demonstrated above,\n",
    "1. Find the 10 countries with most projects\n",
    "2. Find the top 10 major project themes (using column 'mjtheme_namecode')\n",
    "3. In 2. above you will notice that some entries have only the code and the name is missing. Create a dataframe with the missing names filled in."
   ]
  },
  {
   "cell_type": "markdown",
   "metadata": {},
   "source": [
    "### 1. Find the 10 countries with most projects"
   ]
  },
  {
   "cell_type": "code",
   "execution_count": 7,
   "metadata": {},
   "outputs": [
    {
     "data": {
      "text/plain": [
       "Index(['sector', 'supplementprojectflg', 'projectfinancialtype', 'prodline',\n",
       "       'mjtheme', 'idacommamt', 'impagency', 'project_name', 'mjthemecode',\n",
       "       'closingdate', 'totalcommamt', 'id', 'mjsector_namecode', 'docty',\n",
       "       'sector1', 'lendinginstr', 'countrycode', 'sector2', 'totalamt',\n",
       "       'mjtheme_namecode', 'boardapprovaldate', 'countryshortname', 'sector4',\n",
       "       'prodlinetext', 'productlinetype', 'regionname', 'status',\n",
       "       'country_namecode', 'envassesmentcategorycode', 'project_abstract',\n",
       "       'approvalfy', 'projectdocs', 'lendprojectcost', 'lendinginstrtype',\n",
       "       'theme1', 'grantamt', 'themecode', 'borrower', 'sectorcode', 'sector3',\n",
       "       'majorsector_percent', 'board_approval_month', 'theme_namecode',\n",
       "       'countryname', 'url', 'source', 'projectstatusdisplay', 'ibrdcommamt',\n",
       "       'sector_namecode', '_id'],\n",
       "      dtype='object')"
      ]
     },
     "execution_count": 7,
     "metadata": {},
     "output_type": "execute_result"
    }
   ],
   "source": [
    "#Lets see all the column names\n",
    "df_main.columns"
   ]
  },
  {
   "cell_type": "code",
   "execution_count": 8,
   "metadata": {},
   "outputs": [
    {
     "data": {
      "text/html": [
       "<div>\n",
       "<style scoped>\n",
       "    .dataframe tbody tr th:only-of-type {\n",
       "        vertical-align: middle;\n",
       "    }\n",
       "\n",
       "    .dataframe tbody tr th {\n",
       "        vertical-align: top;\n",
       "    }\n",
       "\n",
       "    .dataframe thead th {\n",
       "        text-align: right;\n",
       "    }\n",
       "</style>\n",
       "<table border=\"1\" class=\"dataframe\">\n",
       "  <thead>\n",
       "    <tr style=\"text-align: right;\">\n",
       "      <th></th>\n",
       "      <th>countryname</th>\n",
       "      <th>project_name</th>\n",
       "    </tr>\n",
       "  </thead>\n",
       "  <tbody>\n",
       "    <tr>\n",
       "      <td>0</td>\n",
       "      <td>Federal Democratic Republic of Ethiopia</td>\n",
       "      <td>Ethiopia General Education Quality Improvement Project II</td>\n",
       "    </tr>\n",
       "    <tr>\n",
       "      <td>1</td>\n",
       "      <td>Republic of Tunisia</td>\n",
       "      <td>TN: DTF Social Protection Reforms Support</td>\n",
       "    </tr>\n",
       "    <tr>\n",
       "      <td>2</td>\n",
       "      <td>Tuvalu</td>\n",
       "      <td>Tuvalu Aviation Investment Project - Additional Financing</td>\n",
       "    </tr>\n",
       "    <tr>\n",
       "      <td>3</td>\n",
       "      <td>Republic of Yemen</td>\n",
       "      <td>Gov't and Civil Society Organization Partnership</td>\n",
       "    </tr>\n",
       "    <tr>\n",
       "      <td>4</td>\n",
       "      <td>Kingdom of Lesotho</td>\n",
       "      <td>Second Private Sector Competitiveness and Economic Diversification Prj</td>\n",
       "    </tr>\n",
       "  </tbody>\n",
       "</table>\n",
       "</div>"
      ],
      "text/plain": [
       "                               countryname  \\\n",
       "0  Federal Democratic Republic of Ethiopia   \n",
       "1                      Republic of Tunisia   \n",
       "2                                   Tuvalu   \n",
       "3                        Republic of Yemen   \n",
       "4                       Kingdom of Lesotho   \n",
       "\n",
       "                                                             project_name  \n",
       "0               Ethiopia General Education Quality Improvement Project II  \n",
       "1                               TN: DTF Social Protection Reforms Support  \n",
       "2               Tuvalu Aviation Investment Project - Additional Financing  \n",
       "3                        Gov't and Civil Society Organization Partnership  \n",
       "4  Second Private Sector Competitiveness and Economic Diversification Prj  "
      ]
     },
     "execution_count": 8,
     "metadata": {},
     "output_type": "execute_result"
    }
   ],
   "source": [
    "#Filter a smaller subset of DataFrame for 1.\n",
    "df_projects = df_main[['countryname','project_name']]\n",
    "df_projects.head(5)"
   ]
  },
  {
   "cell_type": "code",
   "execution_count": 9,
   "metadata": {},
   "outputs": [
    {
     "data": {
      "text/html": [
       "<div>\n",
       "<style scoped>\n",
       "    .dataframe tbody tr th:only-of-type {\n",
       "        vertical-align: middle;\n",
       "    }\n",
       "\n",
       "    .dataframe tbody tr th {\n",
       "        vertical-align: top;\n",
       "    }\n",
       "\n",
       "    .dataframe thead th {\n",
       "        text-align: right;\n",
       "    }\n",
       "</style>\n",
       "<table border=\"1\" class=\"dataframe\">\n",
       "  <thead>\n",
       "    <tr style=\"text-align: right;\">\n",
       "      <th></th>\n",
       "      <th>project_name</th>\n",
       "    </tr>\n",
       "    <tr>\n",
       "      <th>countryname</th>\n",
       "      <th></th>\n",
       "    </tr>\n",
       "  </thead>\n",
       "  <tbody>\n",
       "    <tr>\n",
       "      <td>People's Republic of China</td>\n",
       "      <td>19</td>\n",
       "    </tr>\n",
       "    <tr>\n",
       "      <td>Republic of Indonesia</td>\n",
       "      <td>19</td>\n",
       "    </tr>\n",
       "    <tr>\n",
       "      <td>Socialist Republic of Vietnam</td>\n",
       "      <td>17</td>\n",
       "    </tr>\n",
       "    <tr>\n",
       "      <td>Republic of India</td>\n",
       "      <td>16</td>\n",
       "    </tr>\n",
       "    <tr>\n",
       "      <td>Republic of Yemen</td>\n",
       "      <td>13</td>\n",
       "    </tr>\n",
       "    <tr>\n",
       "      <td>People's Republic of Bangladesh</td>\n",
       "      <td>12</td>\n",
       "    </tr>\n",
       "    <tr>\n",
       "      <td>Nepal</td>\n",
       "      <td>12</td>\n",
       "    </tr>\n",
       "    <tr>\n",
       "      <td>Kingdom of Morocco</td>\n",
       "      <td>12</td>\n",
       "    </tr>\n",
       "    <tr>\n",
       "      <td>Republic of Mozambique</td>\n",
       "      <td>11</td>\n",
       "    </tr>\n",
       "    <tr>\n",
       "      <td>Africa</td>\n",
       "      <td>11</td>\n",
       "    </tr>\n",
       "  </tbody>\n",
       "</table>\n",
       "</div>"
      ],
      "text/plain": [
       "                                 project_name\n",
       "countryname                                  \n",
       "People's Republic of China                 19\n",
       "Republic of Indonesia                      19\n",
       "Socialist Republic of Vietnam              17\n",
       "Republic of India                          16\n",
       "Republic of Yemen                          13\n",
       "People's Republic of Bangladesh            12\n",
       "Nepal                                      12\n",
       "Kingdom of Morocco                         12\n",
       "Republic of Mozambique                     11\n",
       "Africa                                     11"
      ]
     },
     "execution_count": 9,
     "metadata": {},
     "output_type": "execute_result"
    }
   ],
   "source": [
    "df_projects.groupby('countryname').count().sort_values(by='project_name', ascending=False).head(10)"
   ]
  },
  {
   "cell_type": "markdown",
   "metadata": {},
   "source": [
    "### 2. Find the top 10 major project themes (using column 'mjtheme_namecode')"
   ]
  },
  {
   "cell_type": "markdown",
   "metadata": {},
   "source": [
    "### Using this method as a faster option instead of next option with better readability"
   ]
  },
  {
   "cell_type": "code",
   "execution_count": 50,
   "metadata": {},
   "outputs": [
    {
     "name": "stdout",
     "output_type": "stream",
     "text": [
      "Wall time: 0 ns\n"
     ]
    },
    {
     "data": {
      "text/plain": [
       "[('Environment and natural resources management', 250),\n",
       " ('Rural development', 216),\n",
       " ('Human development', 210),\n",
       " ('Public sector governance', 199),\n",
       " ('Social protection and risk management', 168),\n",
       " ('Financial and private sector development', 146),\n",
       " ('Social dev/gender/inclusion', 130),\n",
       " ('Trade and integration', 77),\n",
       " ('Urban development', 50),\n",
       " ('Economic management', 38)]"
      ]
     },
     "execution_count": 50,
     "metadata": {},
     "output_type": "execute_result"
    }
   ],
   "source": [
    "%%time\n",
    "#use iteritems to get all values in column 'mjtheme_namecode'\n",
    "i,l_items = zip(*df_main.mjtheme_namecode.iteritems())\n",
    "#flatten the multiple list of dictionaries to single list of dictionaries\n",
    "flattened_list  = list(itertools.chain(*list(l_items)))\n",
    "\n",
    "#use extend to extract each dict item into a 'final' list\n",
    "final = []\n",
    "final.extend([item['name'] for item in flattened_list if item['name'] != ''])\n",
    "\n",
    "#use counter to count frequency of each theme\n",
    "c=Counter(final)\n",
    "c.most_common(10)"
   ]
  },
  {
   "cell_type": "code",
   "execution_count": 51,
   "metadata": {},
   "outputs": [
    {
     "name": "stdout",
     "output_type": "stream",
     "text": [
      "Wall time: 600 ms\n"
     ]
    },
    {
     "data": {
      "text/plain": [
       "name\n",
       "Environment and natural resources management    250\n",
       "Rural development                               216\n",
       "Human development                               210\n",
       "Public sector governance                        199\n",
       "Social protection and risk management           168\n",
       "Financial and private sector development        146\n",
       "Social dev/gender/inclusion                     130\n",
       "Trade and integration                            77\n",
       "Urban development                                50\n",
       "Economic management                              38\n",
       "Rule of law                                      15\n",
       "dtype: int64"
      ]
     },
     "execution_count": 51,
     "metadata": {},
     "output_type": "execute_result"
    }
   ],
   "source": [
    "%%time\n",
    "theme_dict = {'code': [],\n",
    "              'name': []}\n",
    "\n",
    "for index, row in df_main.iterrows():\n",
    "    theme_dict['name'].extend([elem['name'] for elem in row['mjtheme_namecode']])\n",
    "    theme_dict['code'].extend([elem['code'] for elem in row['mjtheme_namecode']])\n",
    "\n",
    "    theme_df = pd.DataFrame.from_dict(theme_dict)\n",
    "theme_df.head()\n",
    "\n",
    "theme_df.groupby('name').size().sort_values(ascending=False)"
   ]
  },
  {
   "cell_type": "markdown",
   "metadata": {},
   "source": [
    "### 3. In 2. above you will notice that some entries have only the code and the name is missing. Create a dataframe with the missing names filled in."
   ]
  },
  {
   "cell_type": "code",
   "execution_count": 52,
   "metadata": {},
   "outputs": [
    {
     "name": "stdout",
     "output_type": "stream",
     "text": [
      "Wall time: 8 ms\n"
     ]
    },
    {
     "data": {
      "text/plain": [
       "0                                                                                                                             [{'code': '8', 'name': 'Human development'}, {'code': '11', 'name': 'Environment and natural resources management'}]\n",
       "1                                                                                                                                   [{'code': '1', 'name': 'Economic management'}, {'code': '6', 'name': 'Social protection and risk management'}]\n",
       "2      [{'code': '5', 'name': 'Trade and integration'}, {'code': '2', 'name': 'Public sector governance'}, {'code': '11', 'name': 'Environment and natural resources management'}, {'code': '6', 'name': 'Social protection and risk management'}]\n",
       "3                                                                                                                                     [{'code': '7', 'name': 'Social dev/gender/inclusion'}, {'code': '7', 'name': 'Social dev/gender/inclusion'}]\n",
       "4                                                                                                                              [{'code': '5', 'name': 'Trade and integration'}, {'code': '4', 'name': 'Financial and private sector development'}]\n",
       "                                                                                                                          ...                                                                                                                     \n",
       "495                                                                                                                      [{'code': '4', 'name': 'Financial and private sector development'}, {'code': '7', 'name': 'Social dev/gender/inclusion'}]\n",
       "496                                                    [{'code': '8', 'name': 'Human development'}, {'code': '5', 'name': 'Trade and integration'}, {'code': '2', 'name': 'Public sector governance'}, {'code': '8', 'name': 'Human development'}]\n",
       "497                                                                                                                                  [{'code': '10', 'name': 'Rural development'}, {'code': '6', 'name': 'Social protection and risk management'}]\n",
       "498                                                                                                        [{'code': '10', 'name': 'Rural development'}, {'code': '10', 'name': 'Rural development'}, {'code': '10', 'name': 'Rural development'}]\n",
       "499                                    [{'code': '9', 'name': 'Urban development'}, {'code': '8', 'name': 'Human development'}, {'code': '5', 'name': 'Trade and integration'}, {'code': '4', 'name': 'Financial and private sector development'}]\n",
       "Name: mjtheme_namecode, Length: 500, dtype: object"
      ]
     },
     "execution_count": 52,
     "metadata": {},
     "output_type": "execute_result"
    }
   ],
   "source": [
    "%%time\n",
    "list_code = []\n",
    "list_name = []\n",
    "list_name.extend([item['name'] for item in flattened_list if item['name'] != ''])\n",
    "list_code.extend([item['code'] for item in flattened_list if item['name'] != ''])\n",
    "\n",
    "#generate a dictionary with all code:name values\n",
    "dict_theme = dict(zip(list_code,list_name))\n",
    "\n",
    "theme = df_main['mjtheme_namecode']\n",
    "\n",
    "#replace all '' with the the guide present in dict_theme\n",
    "theme.replace(to_replace='', value=dict_theme, inplace=True, regex=True)\n",
    "\n",
    "#create new dataframe by replacing mjtheme_namecode\n",
    "df_new = df_main.assign(mjtheme_namecode=theme)\n",
    "df_new['mjtheme_namecode']"
   ]
  }
 ],
 "metadata": {
  "kernelspec": {
   "display_name": "Python 3",
   "language": "python",
   "name": "python3"
  },
  "language_info": {
   "codemirror_mode": {
    "name": "ipython",
    "version": 3
   },
   "file_extension": ".py",
   "mimetype": "text/x-python",
   "name": "python",
   "nbconvert_exporter": "python",
   "pygments_lexer": "ipython3",
   "version": "3.7.4"
  }
 },
 "nbformat": 4,
 "nbformat_minor": 1
}
